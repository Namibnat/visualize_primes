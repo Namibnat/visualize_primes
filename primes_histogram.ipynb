{
 "cells": [
  {
   "cell_type": "markdown",
   "id": "regulated-tulsa",
   "metadata": {},
   "source": [
    "# Primes under 10,000 histogram"
   ]
  },
  {
   "cell_type": "code",
   "execution_count": 1,
   "id": "friendly-nation",
   "metadata": {},
   "outputs": [],
   "source": [
    "from collections import Counter\n",
    "import math\n",
    "import matplotlib.pyplot as plt"
   ]
  },
  {
   "cell_type": "code",
   "execution_count": 5,
   "id": "charming-evans",
   "metadata": {},
   "outputs": [],
   "source": [
    "def gen_n_primes(n):\n",
    "    \"\"\"Generate a series of prime numbers\n",
    "    \n",
    "    2, 3, 5, ...., n\n",
    "    \n",
    "    returns a python list of primes\"\"\"\n",
    "    primes = [2, 3, 5]\n",
    "    possible_prime = 5\n",
    "    while len(primes) < n:\n",
    "        possible_prime += 2\n",
    "        # We only need to check divisibility between\n",
    "        #   2 and the square root of the number we're testing\n",
    "        for prime in [p for p in primes[1:]\n",
    "                  if p < math.ceil(math.sqrt(possible_prime))]:\n",
    "            if possible_prime % prime == 0:\n",
    "                break\n",
    "        else:\n",
    "            primes.append(possible_prime)\n",
    "    return primes"
   ]
  },
  {
   "cell_type": "code",
   "execution_count": 6,
   "id": "fabulous-graphics",
   "metadata": {},
   "outputs": [],
   "source": [
    "scale = 1000  # The bin sizes we're working with for the histogram\n",
    "num_primes_below_10000 = 1253 \n",
    "primes = Counter([prime//scale*scale for prime in gen_n_primes(num_primes_below_10000)])"
   ]
  },
  {
   "cell_type": "code",
   "execution_count": 9,
   "id": "handy-rebel",
   "metadata": {},
   "outputs": [
    {
     "data": {
      "image/png": "[encoded data removed]",
      "text/plain": [
       "<Figure size 432x288 with 1 Axes>"
      ]
     },
     "metadata": {
      "needs_background": "light"
     },
     "output_type": "display_data"
    }
   ],
   "source": [
    "plt.bar(\n",
    "    [x + scale//2 for x in primes.keys()],\n",
    "    primes.values(),\n",
    "    scale,\n",
    "    edgecolor=(0,0,0))\n",
    "\n",
    "plt.axis([min(primes.keys()) - scale//5,\n",
    "          max(primes.keys()) + scale + scale//5,\n",
    "          0,\n",
    "          max(primes.values()) + max(primes.values())//20])\n",
    "plt.xticks([scale * i for i in range(len(primes) + 1)])\n",
    "plt.xlabel(\"Tousands\")\n",
    "plt.ylabel(\"# of primes\")\n",
    "plt.title(\"Histogram of primes in each 1000 under 10,000\")\n",
    "plt.show()"
   ]
  },
  {
   "cell_type": "code",
   "execution_count": null,
   "id": "amber-mixer",
   "metadata": {},
   "outputs": [],
   "source": []
  }
 ],
 "metadata": {
  "kernelspec": {
   "display_name": "Python 3",
   "language": "python",
   "name": "python3"
  },
  "language_info": {
   "codemirror_mode": {
    "name": "ipython",
    "version": 3
   },
   "file_extension": ".py",
   "mimetype": "text/x-python",
   "name": "python",
   "nbconvert_exporter": "python",
   "pygments_lexer": "ipython3",
   "version": "3.9.1"
  }
 },
 "nbformat": 4,
 "nbformat_minor": 5
}
